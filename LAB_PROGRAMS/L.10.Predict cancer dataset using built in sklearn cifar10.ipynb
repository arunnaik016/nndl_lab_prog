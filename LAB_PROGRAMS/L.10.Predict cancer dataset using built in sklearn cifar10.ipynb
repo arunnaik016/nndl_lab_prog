{
 "cells": [
  {
   "cell_type": "code",
   "execution_count": 1,
   "id": "1028964e",
   "metadata": {},
   "outputs": [],
   "source": [
    "import tensorflow as tf\n",
    "from tensorflow import keras\n",
    "from tensorflow.keras import layers"
   ]
  },
  {
   "cell_type": "code",
   "execution_count": 2,
   "id": "143ac27f",
   "metadata": {},
   "outputs": [],
   "source": [
    "#load the dataset\n",
    "(train_images,train_labels),(test_images,test_labels)=keras.datasets.cifar10.load_data()"
   ]
  },
  {
   "cell_type": "code",
   "execution_count": 3,
   "id": "1048aaf7",
   "metadata": {},
   "outputs": [],
   "source": [
    "#normalize the pixel values to be between 0 and 1\n",
    "train_images=train_images/255.0\n",
    "test_images=test_images/255.0"
   ]
  },
  {
   "cell_type": "code",
   "execution_count": 4,
   "id": "a9b6ee32",
   "metadata": {},
   "outputs": [],
   "source": [
    "#define the cnn model architecture\n",
    "model=keras.Sequential([\n",
    "    layers.Conv2D(32,(3,3),activation='relu',input_shape=(32,32,3)),\n",
    "    layers.MaxPooling2D((2,2)),\n",
    "    layers.Conv2D(64,(3,3),activation='relu'),\n",
    "    layers.MaxPooling2D((2,2)),\n",
    "    layers.Conv2D(64,(3,3),activation='relu'),\n",
    "    layers.Flatten(),\n",
    "    layers.Dense(64,activation='relu'),\n",
    "    layers.Dense(10)\n",
    "    \n",
    "]\n",
    ")"
   ]
  },
  {
   "cell_type": "code",
   "execution_count": 5,
   "id": "87a62b0a",
   "metadata": {},
   "outputs": [],
   "source": [
    "#compile the model\n",
    "\n",
    "model.compile(optimizer='adam',\n",
    "             loss=tf.keras.losses.SparseCategoricalCrossentropy(from_logits=True),\n",
    "             metrics=['accuracy'])"
   ]
  },
  {
   "cell_type": "code",
   "execution_count": 6,
   "id": "ea677603",
   "metadata": {},
   "outputs": [
    {
     "name": "stdout",
     "output_type": "stream",
     "text": [
      "Epoch 1/10\n",
      "1563/1563 [==============================] - 57s 35ms/step - loss: 1.5346 - accuracy: 0.4409 - val_loss: 1.2867 - val_accuracy: 0.5297\n",
      "Epoch 2/10\n",
      "1563/1563 [==============================] - 54s 35ms/step - loss: 1.1861 - accuracy: 0.5803 - val_loss: 1.1756 - val_accuracy: 0.5928\n",
      "Epoch 3/10\n",
      "1563/1563 [==============================] - 38s 24ms/step - loss: 1.0403 - accuracy: 0.6342 - val_loss: 1.0006 - val_accuracy: 0.6498\n",
      "Epoch 4/10\n",
      "1563/1563 [==============================] - 84s 54ms/step - loss: 0.9439 - accuracy: 0.6692 - val_loss: 0.9409 - val_accuracy: 0.6751\n",
      "Epoch 5/10\n",
      "1563/1563 [==============================] - 87s 56ms/step - loss: 0.8729 - accuracy: 0.6944 - val_loss: 0.8989 - val_accuracy: 0.6896\n",
      "Epoch 6/10\n",
      "1563/1563 [==============================] - 50s 32ms/step - loss: 0.8169 - accuracy: 0.7131 - val_loss: 0.9017 - val_accuracy: 0.6873\n",
      "Epoch 7/10\n",
      "1563/1563 [==============================] - 37s 24ms/step - loss: 0.7696 - accuracy: 0.7306 - val_loss: 0.8732 - val_accuracy: 0.6990\n",
      "Epoch 8/10\n",
      "1563/1563 [==============================] - 35s 23ms/step - loss: 0.7203 - accuracy: 0.7475 - val_loss: 0.8842 - val_accuracy: 0.6966\n",
      "Epoch 9/10\n",
      "1563/1563 [==============================] - 35s 23ms/step - loss: 0.6807 - accuracy: 0.7607 - val_loss: 0.8830 - val_accuracy: 0.6973\n",
      "Epoch 10/10\n",
      "1563/1563 [==============================] - 35s 23ms/step - loss: 0.6456 - accuracy: 0.7737 - val_loss: 0.8929 - val_accuracy: 0.6979\n"
     ]
    }
   ],
   "source": [
    "#Train the model\n",
    "\n",
    "history=model.fit(train_images,train_labels,epochs=10,validation_data=(test_images,test_labels))"
   ]
  },
  {
   "cell_type": "code",
   "execution_count": 7,
   "id": "61186c0e",
   "metadata": {},
   "outputs": [
    {
     "name": "stdout",
     "output_type": "stream",
     "text": [
      "313/313 - 2s - loss: 0.8929 - accuracy: 0.6979 - 2s/epoch - 7ms/step\n",
      "\n",
      " Test accuracy: 0.6978999972343445\n",
      "313/313 [==============================] - 2s 7ms/step\n"
     ]
    }
   ],
   "source": [
    "#Evaluate the model on the test set\n",
    "\n",
    "test_loss,test_acc=model.evaluate(test_images,test_labels,verbose=2)\n",
    "print('\\n Test accuracy:',test_acc)\n",
    "\n",
    "#make predictions on new data\n",
    "predictions=model.predict(test_images)"
   ]
  },
  {
   "cell_type": "code",
   "execution_count": null,
   "id": "bc24adc9",
   "metadata": {},
   "outputs": [],
   "source": []
  }
 ],
 "metadata": {
  "kernelspec": {
   "display_name": "Python 3 (ipykernel)",
   "language": "python",
   "name": "python3"
  },
  "language_info": {
   "codemirror_mode": {
    "name": "ipython",
    "version": 3
   },
   "file_extension": ".py",
   "mimetype": "text/x-python",
   "name": "python",
   "nbconvert_exporter": "python",
   "pygments_lexer": "ipython3",
   "version": "3.9.18"
  }
 },
 "nbformat": 4,
 "nbformat_minor": 5
}
