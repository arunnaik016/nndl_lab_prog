{
 "cells": [
  {
   "cell_type": "code",
   "execution_count": 1,
   "id": "cd63f4bc",
   "metadata": {},
   "outputs": [],
   "source": [
    "from sklearn import datasets\n",
    "from sklearn.model_selection import train_test_split\n",
    "from keras.utils import to_categorical\n",
    "from keras.models import Sequential\n",
    "from keras.layers import Conv2D,MaxPooling2D,Flatten,Dense\n",
    "from keras.callbacks import EarlyStopping,ModelCheckpoint\n",
    "import matplotlib.pyplot as plt"
   ]
  },
  {
   "cell_type": "code",
   "execution_count": 2,
   "id": "02ef7bfc",
   "metadata": {},
   "outputs": [],
   "source": [
    "data=datasets.load_digits()\n",
    "x=data.images\n",
    "y=data.target"
   ]
  },
  {
   "cell_type": "code",
   "execution_count": 3,
   "id": "0778e8f5",
   "metadata": {},
   "outputs": [],
   "source": [
    "x=x.reshape((x.shape[0],8,8,1))\n",
    "x=x.astype('float32')/255\n",
    "y=to_categorical(y)"
   ]
  },
  {
   "cell_type": "code",
   "execution_count": 4,
   "id": "eabab4f9",
   "metadata": {},
   "outputs": [],
   "source": [
    "x_train,x_test,y_train,y_test=train_test_split(x,y,test_size=0.2)"
   ]
  },
  {
   "cell_type": "code",
   "execution_count": 5,
   "id": "2e633d04",
   "metadata": {},
   "outputs": [],
   "source": [
    "model=Sequential()\n",
    "model.add(Conv2D(32,kernel_size=(3,3),activation='relu',input_shape=(8,8,1)))\n",
    "model.add(MaxPooling2D(pool_size=(2,2)))\n",
    "model.add(Flatten())\n",
    "model.add(Dense(64,activation='relu'))\n",
    "model.add(Dense(10,activation='softmax'))"
   ]
  },
  {
   "cell_type": "code",
   "execution_count": 6,
   "id": "8933df7d",
   "metadata": {},
   "outputs": [],
   "source": [
    "model.compile(optimizer='adam',loss='categorical_crossentropy',metrics=['accuracy'])"
   ]
  },
  {
   "cell_type": "code",
   "execution_count": 7,
   "id": "1cd45439",
   "metadata": {},
   "outputs": [],
   "source": [
    "earlystop=EarlyStopping(monitor='val_loss',patience=10)\n",
    "best_weights=ModelCheckpoint('best_weights.h5',save_best_only=True,monitor='val_loss',mode='min')"
   ]
  },
  {
   "cell_type": "code",
   "execution_count": 8,
   "id": "af9b3286",
   "metadata": {},
   "outputs": [
    {
     "name": "stdout",
     "output_type": "stream",
     "text": [
      "Epoch 1/50\n",
      "45/45 [==============================] - 1s 8ms/step - loss: 2.2915 - accuracy: 0.2067 - val_loss: 2.2728 - val_accuracy: 0.3333\n",
      "Epoch 2/50\n",
      "45/45 [==============================] - 0s 3ms/step - loss: 2.2426 - accuracy: 0.4301 - val_loss: 2.1905 - val_accuracy: 0.6194\n"
     ]
    },
    {
     "name": "stderr",
     "output_type": "stream",
     "text": [
      "C:\\Users\\Student\\AppData\\Roaming\\Python\\Python39\\site-packages\\keras\\src\\engine\\training.py:3000: UserWarning: You are saving your model as an HDF5 file via `model.save()`. This file format is considered legacy. We recommend using instead the native Keras format, e.g. `model.save('my_model.keras')`.\n",
      "  saving_api.save_model(\n"
     ]
    },
    {
     "name": "stdout",
     "output_type": "stream",
     "text": [
      "Epoch 3/50\n",
      "45/45 [==============================] - 0s 3ms/step - loss: 2.1098 - accuracy: 0.6360 - val_loss: 1.9821 - val_accuracy: 0.7750\n",
      "Epoch 4/50\n",
      "45/45 [==============================] - 0s 4ms/step - loss: 1.8295 - accuracy: 0.7620 - val_loss: 1.6316 - val_accuracy: 0.7944\n",
      "Epoch 5/50\n",
      "45/45 [==============================] - 0s 4ms/step - loss: 1.4370 - accuracy: 0.7523 - val_loss: 1.2065 - val_accuracy: 0.8611\n",
      "Epoch 6/50\n",
      "45/45 [==============================] - 0s 4ms/step - loss: 1.0738 - accuracy: 0.8121 - val_loss: 0.9081 - val_accuracy: 0.8500\n",
      "Epoch 7/50\n",
      "45/45 [==============================] - 0s 4ms/step - loss: 0.8365 - accuracy: 0.8330 - val_loss: 0.7481 - val_accuracy: 0.8806\n",
      "Epoch 8/50\n",
      "45/45 [==============================] - 0s 3ms/step - loss: 0.6866 - accuracy: 0.8573 - val_loss: 0.6214 - val_accuracy: 0.8806\n",
      "Epoch 9/50\n",
      "45/45 [==============================] - 0s 4ms/step - loss: 0.5931 - accuracy: 0.8629 - val_loss: 0.5426 - val_accuracy: 0.8917\n",
      "Epoch 10/50\n",
      "45/45 [==============================] - 0s 4ms/step - loss: 0.5233 - accuracy: 0.8747 - val_loss: 0.4881 - val_accuracy: 0.8944\n",
      "Epoch 11/50\n",
      "45/45 [==============================] - 0s 4ms/step - loss: 0.4759 - accuracy: 0.8838 - val_loss: 0.4447 - val_accuracy: 0.9056\n",
      "Epoch 12/50\n",
      "45/45 [==============================] - 0s 3ms/step - loss: 0.4374 - accuracy: 0.8859 - val_loss: 0.4050 - val_accuracy: 0.9139\n",
      "Epoch 13/50\n",
      "45/45 [==============================] - 0s 3ms/step - loss: 0.4020 - accuracy: 0.8991 - val_loss: 0.3817 - val_accuracy: 0.9111\n",
      "Epoch 14/50\n",
      "45/45 [==============================] - 0s 3ms/step - loss: 0.3770 - accuracy: 0.9019 - val_loss: 0.3548 - val_accuracy: 0.9250\n",
      "Epoch 15/50\n",
      "45/45 [==============================] - 0s 4ms/step - loss: 0.3574 - accuracy: 0.9047 - val_loss: 0.3281 - val_accuracy: 0.9278\n",
      "Epoch 16/50\n",
      "45/45 [==============================] - 0s 3ms/step - loss: 0.3359 - accuracy: 0.9102 - val_loss: 0.3118 - val_accuracy: 0.9278\n",
      "Epoch 17/50\n",
      "45/45 [==============================] - 0s 3ms/step - loss: 0.3202 - accuracy: 0.9109 - val_loss: 0.2934 - val_accuracy: 0.9333\n",
      "Epoch 18/50\n",
      "45/45 [==============================] - 0s 5ms/step - loss: 0.3021 - accuracy: 0.9165 - val_loss: 0.2861 - val_accuracy: 0.9361\n",
      "Epoch 19/50\n",
      "45/45 [==============================] - 0s 3ms/step - loss: 0.2865 - accuracy: 0.9200 - val_loss: 0.2820 - val_accuracy: 0.9361\n",
      "Epoch 20/50\n",
      "45/45 [==============================] - 0s 3ms/step - loss: 0.2750 - accuracy: 0.9235 - val_loss: 0.2618 - val_accuracy: 0.9444\n",
      "Epoch 21/50\n",
      "45/45 [==============================] - 0s 4ms/step - loss: 0.2596 - accuracy: 0.9269 - val_loss: 0.2360 - val_accuracy: 0.9500\n",
      "Epoch 22/50\n",
      "45/45 [==============================] - 0s 3ms/step - loss: 0.2510 - accuracy: 0.9325 - val_loss: 0.2445 - val_accuracy: 0.9444\n",
      "Epoch 23/50\n",
      "45/45 [==============================] - 0s 3ms/step - loss: 0.2380 - accuracy: 0.9325 - val_loss: 0.2306 - val_accuracy: 0.9528\n",
      "Epoch 24/50\n",
      "45/45 [==============================] - 0s 4ms/step - loss: 0.2297 - accuracy: 0.9339 - val_loss: 0.2150 - val_accuracy: 0.9611\n",
      "Epoch 25/50\n",
      "45/45 [==============================] - 0s 3ms/step - loss: 0.2235 - accuracy: 0.9429 - val_loss: 0.2087 - val_accuracy: 0.9611\n",
      "Epoch 26/50\n",
      "45/45 [==============================] - 0s 4ms/step - loss: 0.2117 - accuracy: 0.9422 - val_loss: 0.2004 - val_accuracy: 0.9583\n",
      "Epoch 27/50\n",
      "45/45 [==============================] - 0s 4ms/step - loss: 0.2052 - accuracy: 0.9450 - val_loss: 0.1942 - val_accuracy: 0.9583\n",
      "Epoch 28/50\n",
      "45/45 [==============================] - 0s 3ms/step - loss: 0.1957 - accuracy: 0.9443 - val_loss: 0.1840 - val_accuracy: 0.9639\n",
      "Epoch 29/50\n",
      "45/45 [==============================] - 0s 3ms/step - loss: 0.1904 - accuracy: 0.9485 - val_loss: 0.1805 - val_accuracy: 0.9583\n",
      "Epoch 30/50\n",
      "45/45 [==============================] - 0s 3ms/step - loss: 0.1851 - accuracy: 0.9534 - val_loss: 0.1776 - val_accuracy: 0.9583\n",
      "Epoch 31/50\n",
      "45/45 [==============================] - 0s 4ms/step - loss: 0.1817 - accuracy: 0.9506 - val_loss: 0.1656 - val_accuracy: 0.9639\n",
      "Epoch 32/50\n",
      "45/45 [==============================] - 0s 4ms/step - loss: 0.1708 - accuracy: 0.9576 - val_loss: 0.1668 - val_accuracy: 0.9556\n",
      "Epoch 33/50\n",
      "45/45 [==============================] - 0s 4ms/step - loss: 0.1685 - accuracy: 0.9534 - val_loss: 0.1645 - val_accuracy: 0.9694\n",
      "Epoch 34/50\n",
      "45/45 [==============================] - 0s 3ms/step - loss: 0.1610 - accuracy: 0.9576 - val_loss: 0.1545 - val_accuracy: 0.9583\n",
      "Epoch 35/50\n",
      "45/45 [==============================] - 0s 3ms/step - loss: 0.1550 - accuracy: 0.9617 - val_loss: 0.1547 - val_accuracy: 0.9750\n",
      "Epoch 36/50\n",
      "45/45 [==============================] - 0s 4ms/step - loss: 0.1503 - accuracy: 0.9603 - val_loss: 0.1473 - val_accuracy: 0.9694\n",
      "Epoch 37/50\n",
      "45/45 [==============================] - 0s 3ms/step - loss: 0.1462 - accuracy: 0.9631 - val_loss: 0.1473 - val_accuracy: 0.9639\n",
      "Epoch 38/50\n",
      "45/45 [==============================] - 0s 3ms/step - loss: 0.1408 - accuracy: 0.9666 - val_loss: 0.1489 - val_accuracy: 0.9722\n",
      "Epoch 39/50\n",
      "45/45 [==============================] - 0s 3ms/step - loss: 0.1398 - accuracy: 0.9673 - val_loss: 0.1288 - val_accuracy: 0.9694\n",
      "Epoch 40/50\n",
      "45/45 [==============================] - 0s 3ms/step - loss: 0.1328 - accuracy: 0.9652 - val_loss: 0.1295 - val_accuracy: 0.9694\n",
      "Epoch 41/50\n",
      "45/45 [==============================] - 0s 3ms/step - loss: 0.1309 - accuracy: 0.9673 - val_loss: 0.1400 - val_accuracy: 0.9778\n",
      "Epoch 42/50\n",
      "45/45 [==============================] - 0s 3ms/step - loss: 0.1253 - accuracy: 0.9708 - val_loss: 0.1213 - val_accuracy: 0.9722\n",
      "Epoch 43/50\n",
      "45/45 [==============================] - 0s 3ms/step - loss: 0.1216 - accuracy: 0.9687 - val_loss: 0.1251 - val_accuracy: 0.9694\n",
      "Epoch 44/50\n",
      "45/45 [==============================] - 0s 3ms/step - loss: 0.1196 - accuracy: 0.9708 - val_loss: 0.1195 - val_accuracy: 0.9778\n",
      "Epoch 45/50\n",
      "45/45 [==============================] - 0s 3ms/step - loss: 0.1153 - accuracy: 0.9701 - val_loss: 0.1160 - val_accuracy: 0.9639\n",
      "Epoch 46/50\n",
      "45/45 [==============================] - 0s 4ms/step - loss: 0.1139 - accuracy: 0.9722 - val_loss: 0.1135 - val_accuracy: 0.9778\n",
      "Epoch 47/50\n",
      "45/45 [==============================] - 0s 4ms/step - loss: 0.1098 - accuracy: 0.9743 - val_loss: 0.1124 - val_accuracy: 0.9694\n",
      "Epoch 48/50\n",
      "45/45 [==============================] - 0s 3ms/step - loss: 0.1070 - accuracy: 0.9722 - val_loss: 0.1175 - val_accuracy: 0.9833\n",
      "Epoch 49/50\n",
      "45/45 [==============================] - 0s 3ms/step - loss: 0.1049 - accuracy: 0.9736 - val_loss: 0.1123 - val_accuracy: 0.9667\n",
      "Epoch 50/50\n",
      "45/45 [==============================] - 0s 3ms/step - loss: 0.0992 - accuracy: 0.9784 - val_loss: 0.1177 - val_accuracy: 0.9639\n"
     ]
    }
   ],
   "source": [
    "history=model.fit(x_train,y_train,epochs=50,batch_size=32,validation_data=(x_test,y_test),\n",
    "                  callbacks=[earlystop,best_weights])"
   ]
  },
  {
   "cell_type": "code",
   "execution_count": 9,
   "id": "8ee2e03b",
   "metadata": {},
   "outputs": [
    {
     "data": {
      "image/png": "[encoded data removed]",
      "text/plain": [
       "<Figure size 640x480 with 1 Axes>"
      ]
     },
     "metadata": {},
     "output_type": "display_data"
    }
   ],
   "source": [
    "plt.plot(history.history['val_loss'])\n",
    "plt.title('Validation Loss')\n",
    "plt.ylabel('Loss')\n",
    "plt.xlabel('Epoch')\n",
    "plt.show()"
   ]
  },
  {
   "cell_type": "code",
   "execution_count": 10,
   "id": "5f713b77",
   "metadata": {
    "scrolled": false
   },
   "outputs": [
    {
     "data": {
      "image/png": "[encoded data removed]",
      "text/plain": [
       "<Figure size 640x480 with 1 Axes>"
      ]
     },
     "metadata": {},
     "output_type": "display_data"
    }
   ],
   "source": [
    "plt.plot(history.history['val_accuracy'])\n",
    "plt.title('Validation accuracy')\n",
    "plt.ylabel('Accuracy')\n",
    "plt.xlabel('Epoch')\n",
    "plt.show()"
   ]
  },
  {
   "cell_type": "code",
   "execution_count": 11,
   "id": "1b9dccbb",
   "metadata": {},
   "outputs": [],
   "source": [
    "model.load_weights(\"best_weights.h5\")"
   ]
  },
  {
   "cell_type": "code",
   "execution_count": 12,
   "id": "9bfe8412",
   "metadata": {},
   "outputs": [
    {
     "name": "stdout",
     "output_type": "stream",
     "text": [
      "Test Loss: 0.11233688145875931\n",
      "Test Accuracy: 0.9666666388511658\n"
     ]
    }
   ],
   "source": [
    "test_loss,test_acc=model.evaluate(x_test,y_test,verbose=0)\n",
    "print(\"Test Loss:\",test_loss)\n",
    "print(\"Test Accuracy:\",test_acc)"
   ]
  },
  {
   "cell_type": "code",
   "execution_count": null,
   "id": "33740ae3",
   "metadata": {},
   "outputs": [],
   "source": []
  }
 ],
 "metadata": {
  "kernelspec": {
   "display_name": "Python 3 (ipykernel)",
   "language": "python",
   "name": "python3"
  },
  "language_info": {
   "codemirror_mode": {
    "name": "ipython",
    "version": 3
   },
   "file_extension": ".py",
   "mimetype": "text/x-python",
   "name": "python",
   "nbconvert_exporter": "python",
   "pygments_lexer": "ipython3",
   "version": "3.9.18"
  }
 },
 "nbformat": 4,
 "nbformat_minor": 5
}
